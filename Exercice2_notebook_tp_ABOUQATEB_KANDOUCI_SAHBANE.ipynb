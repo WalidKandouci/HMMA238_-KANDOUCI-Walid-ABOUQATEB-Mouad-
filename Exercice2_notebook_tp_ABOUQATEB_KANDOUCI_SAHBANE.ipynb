{
 "cells": [
  {
   "cell_type": "markdown",
   "metadata": {},
   "source": [
    "## Exercice 2:"
   ]
  },
  {
   "cell_type": "code",
   "execution_count": 1,
   "metadata": {},
   "outputs": [],
   "source": [
    "#https://osf.io/jda6s/\n",
    "import warnings\n",
    "warnings.filterwarnings(\"ignore\")\n",
    "\n",
    "from sklearn import datasets\n",
    "import numpy as np\n",
    "import matplotlib.pyplot as plt\n",
    "%matplotlib inline"
   ]
  },
  {
   "cell_type": "markdown",
   "metadata": {},
   "source": [
    "D'abord nous téléchargeons le jeu donnée MNIST depuis 'https://osf.io/jda6s/', puis nous le passons manuellement dans le path prévu pour ensuite les charger à l'aide de 'fetch_mldata'"
   ]
  },
  {
   "cell_type": "code",
   "execution_count": 2,
   "metadata": {},
   "outputs": [
    {
     "name": "stderr",
     "output_type": "stream",
     "text": [
      "C:\\Users\\utilisateur\\Anaconda3\\lib\\site-packages\\sklearn\\utils\\deprecation.py:77: DeprecationWarning: Function fetch_mldata is deprecated; fetch_mldata was deprecated in version 0.20 and will be removed in version 0.22\n",
      "  warnings.warn(msg, category=DeprecationWarning)\n",
      "C:\\Users\\utilisateur\\Anaconda3\\lib\\site-packages\\sklearn\\utils\\deprecation.py:77: DeprecationWarning: Function mldata_filename is deprecated; mldata_filename was deprecated in version 0.20 and will be removed in version 0.22\n",
      "  warnings.warn(msg, category=DeprecationWarning)\n"
     ]
    },
    {
     "data": {
      "text/plain": [
       "(70000, 784)"
      ]
     },
     "execution_count": 2,
     "metadata": {},
     "output_type": "execute_result"
    }
   ],
   "source": [
    "from sklearn.datasets import fetch_mldata\n",
    "\n",
    "mnist = fetch_mldata('mnist-original')\n",
    "X = mnist.data.astype('float64')\n",
    "y = mnist.target.astype('float64')\n",
    "\n",
    "mnist.data.shape"
   ]
  },
  {
   "cell_type": "markdown",
   "metadata": {},
   "source": [
    "Notre X contient '70000' images de chiffres codées en des array de taille '784',\n",
    "et le y les chiffres correspandants"
   ]
  },
  {
   "cell_type": "code",
   "execution_count": 3,
   "metadata": {},
   "outputs": [
    {
     "data": {
      "text/plain": [
       "(70000, 784)"
      ]
     },
     "execution_count": 3,
     "metadata": {},
     "output_type": "execute_result"
    }
   ],
   "source": [
    "X.data.shape\n"
   ]
  },
  {
   "cell_type": "code",
   "execution_count": 4,
   "metadata": {},
   "outputs": [
    {
     "data": {
      "text/plain": [
       "(70000,)"
      ]
     },
     "execution_count": 4,
     "metadata": {},
     "output_type": "execute_result"
    }
   ],
   "source": [
    "y.data.shape"
   ]
  },
  {
   "cell_type": "code",
   "execution_count": 5,
   "metadata": {},
   "outputs": [
    {
     "data": {
      "text/plain": [
       "array([0., 1., 2., 3., 4., 5., 6., 7., 8., 9.])"
      ]
     },
     "execution_count": 5,
     "metadata": {},
     "output_type": "execute_result"
    }
   ],
   "source": [
    "np.unique(y) #tous les chiffres de 0 a 9 existent"
   ]
  },
  {
   "cell_type": "code",
   "execution_count": 6,
   "metadata": {},
   "outputs": [
    {
     "name": "stdout",
     "output_type": "stream",
     "text": [
      "[0. 0. 0. ... 9. 9. 9.]\n"
     ]
    }
   ],
   "source": [
    "print(y)"
   ]
  },
  {
   "cell_type": "markdown",
   "metadata": {},
   "source": [
    "Nous transformation X et y en extractants les chiffres 3 et 7"
   ]
  },
  {
   "cell_type": "code",
   "execution_count": 11,
   "metadata": {},
   "outputs": [
    {
     "name": "stdout",
     "output_type": "stream",
     "text": [
      "[3. 3. 3. ... 7. 7. 7.]\n"
     ]
    },
    {
     "data": {
      "text/plain": [
       "array([3., 7.])"
      ]
     },
     "execution_count": 11,
     "metadata": {},
     "output_type": "execute_result"
    }
   ],
   "source": [
    "msk = [(chiffre==7)or(chiffre==3)  for chiffre in y]\n",
    "\n",
    "X= X[msk]\n",
    "y= y[msk]\n",
    "\n",
    "print(y)\n",
    "np.unique(y)"
   ]
  },
  {
   "cell_type": "markdown",
   "metadata": {},
   "source": [
    "Nous pouvons localiser les position des 7 et 3 en utilisant 'np.where(y==7) #ou (y==3)', mais comme nous avons pas permuter les données, la première portion correspondera à un des chiffres et la finale correspondra à l'autre. \n",
    "nous procédons directement par afficher le premier et le derniier élément du X."
   ]
  },
  {
   "cell_type": "code",
   "execution_count": 12,
   "metadata": {
    "scrolled": false
   },
   "outputs": [
    {
     "data": {
      "text/plain": [
       "<matplotlib.image.AxesImage at 0x12bacd0>"
      ]
     },
     "execution_count": 12,
     "metadata": {},
     "output_type": "execute_result"
    },
    {
     "data": {
      "image/png": "[encoded data removed]",
      "text/plain": [
       "<Figure size 432x288 with 2 Axes>"
      ]
     },
     "metadata": {
      "needs_background": "light"
     },
     "output_type": "display_data"
    }
   ],
   "source": [
    "plt.subplot(122)\n",
    "plt.imshow((X[1]).reshape(28,28))\n",
    "plt.subplot(121)\n",
    "plt.imshow((X[-1]).reshape(28,28))#size Xbis=14433"
   ]
  },
  {
   "cell_type": "markdown",
   "metadata": {},
   "source": [
    "Nous utilisons la fonction LogisticRegression pour apprendre un modèle de classication sur l'intégralité des données (on choisira un cas sans ordonnée à l'origine, i.e., l'option fit_intercept=False).nous utilisons liblinear puisque c'est le 'solver' optimal pour nos données (grande dimension + classification binaire)."
   ]
  },
  {
   "cell_type": "code",
   "execution_count": 13,
   "metadata": {},
   "outputs": [],
   "source": [
    "#import time\n",
    "from sklearn.linear_model import LogisticRegression\n",
    "#t0 = time.time()"
   ]
  },
  {
   "cell_type": "code",
   "execution_count": 15,
   "metadata": {},
   "outputs": [
    {
     "data": {
      "text/plain": [
       "1"
      ]
     },
     "execution_count": 15,
     "metadata": {},
     "output_type": "execute_result"
    }
   ],
   "source": [
    "clf = LogisticRegression(random_state=0, solver='liblinear' ,fit_intercept=False).fit(X, y)\n",
    "w=clf.coef_\n",
    "len(w)"
   ]
  },
  {
   "cell_type": "markdown",
   "metadata": {},
   "source": [
    "Nous créons une fonction qui prédit la classe en fonction en se basant sur le signe de $\\langle w, x \\rangle$."
   ]
  },
  {
   "cell_type": "code",
   "execution_count": 16,
   "metadata": {},
   "outputs": [],
   "source": [
    "def PredictNumber(x):\n",
    "    \"predict class x\"\n",
    "    a=np.dot(w,x)\n",
    "    if a>0:\n",
    "        print(\"le chiffre est 7\")\n",
    "    else:\n",
    "        print(\"le chiffre est 3\")\n",
    "    #plt.mshow"
   ]
  },
  {
   "cell_type": "code",
   "execution_count": 17,
   "metadata": {},
   "outputs": [
    {
     "name": "stdout",
     "output_type": "stream",
     "text": [
      "le chiffre est 3\n",
      "le chiffre est 7\n"
     ]
    }
   ],
   "source": [
    "PredictNumber(X[1])\n",
    "PredictNumber(X[-1])"
   ]
  },
  {
   "cell_type": "code",
   "execution_count": 18,
   "metadata": {},
   "outputs": [],
   "source": [
    "  x=X[-1]\n",
    "def fig_digit(alpha):\n",
    "    x_mod=x-alpha*(np.dot(w,x)/np.dot(w,w.T))*w\n",
    "    plt.subplot(122)\n",
    "   \n",
    "    plt.title('image modifié ')\n",
    "    plt.imshow(np.matrix(x_mod).reshape(28,28))#, cmap=plt.cm.gray_r, interpolation='nearest')\n",
    "    plt.show() \n"
   ]
  },
  {
   "cell_type": "markdown",
   "metadata": {},
   "source": [
    "Création du widget:"
   ]
  },
  {
   "cell_type": "code",
   "execution_count": 19,
   "metadata": {},
   "outputs": [],
   "source": [
    "from ipywidgets import interact, interactive, IntSlider, Layout\n",
    "import ipywidgets as widgets\n",
    "from IPython.display import display"
   ]
  },
  {
   "cell_type": "code",
   "execution_count": 26,
   "metadata": {},
   "outputs": [
    {
     "data": {
      "application/vnd.jupyter.widget-view+json": {
       "model_id": "8b8f5e8e3e514cbca5faf2b1271f4ff2",
       "version_major": 2,
       "version_minor": 0
      },
      "text/plain": [
       "interactive(children=(FloatSlider(value=50.00000000000001, description='alpha', min=0.1), Output()), _dom_clas…"
      ]
     },
     "metadata": {},
     "output_type": "display_data"
    },
    {
     "ename": "ValueError",
     "evalue": "cannot reshape array of size 1 into shape (28,28)",
     "output_type": "error",
     "traceback": [
      "\u001b[1;31m---------------------------------------------------------------------------\u001b[0m",
      "\u001b[1;31mValueError\u001b[0m                                Traceback (most recent call last)",
      "\u001b[1;32m<ipython-input-26-878881027954>\u001b[0m in \u001b[0;36m<module>\u001b[1;34m\u001b[0m\n\u001b[0;32m      6\u001b[0m \u001b[0mplt\u001b[0m\u001b[1;33m.\u001b[0m\u001b[0msubplot\u001b[0m\u001b[1;33m(\u001b[0m\u001b[1;36m121\u001b[0m\u001b[1;33m)\u001b[0m\u001b[1;33m\u001b[0m\u001b[1;33m\u001b[0m\u001b[0m\n\u001b[0;32m      7\u001b[0m \u001b[0mplt\u001b[0m\u001b[1;33m.\u001b[0m\u001b[0mtitle\u001b[0m\u001b[1;33m(\u001b[0m\u001b[1;34m'image initiale à titre comparatif'\u001b[0m\u001b[1;33m)\u001b[0m\u001b[1;33m\u001b[0m\u001b[1;33m\u001b[0m\u001b[0m\n\u001b[1;32m----> 8\u001b[1;33m \u001b[0mplt\u001b[0m\u001b[1;33m.\u001b[0m\u001b[0mimshow\u001b[0m\u001b[1;33m(\u001b[0m\u001b[0mnp\u001b[0m\u001b[1;33m.\u001b[0m\u001b[0mmatrix\u001b[0m\u001b[1;33m(\u001b[0m\u001b[0mx\u001b[0m\u001b[1;33m)\u001b[0m\u001b[1;33m.\u001b[0m\u001b[0mreshape\u001b[0m\u001b[1;33m(\u001b[0m\u001b[1;36m28\u001b[0m\u001b[1;33m,\u001b[0m\u001b[1;36m28\u001b[0m\u001b[1;33m)\u001b[0m\u001b[1;33m)\u001b[0m\u001b[1;31m#, cmap=plt.cm.gray_r, interpolation='nearest')\u001b[0m\u001b[1;33m\u001b[0m\u001b[1;33m\u001b[0m\u001b[0m\n\u001b[0m",
      "\u001b[1;31mValueError\u001b[0m: cannot reshape array of size 1 into shape (28,28)"
     ]
    },
    {
     "data": {
      "image/png": "[encoded data removed]",
      "text/plain": [
       "<Figure size 432x288 with 1 Axes>"
      ]
     },
     "metadata": {
      "needs_background": "light"
     },
     "output_type": "display_data"
    }
   ],
   "source": [
    "a=interactive(fig_digit,x=(x),w=(w),alpha=(0.1,100,0.1))\n",
    "display(a)\n",
    "\n",
    "#pour comparer\n",
    "plt.subplot(121)\n",
    "plt.title('image initiale à titre comparatif')\n",
    "plt.imshow(np.matrix(x).reshape(28,28))#, cmap=plt.cm.gray_r, interpolation='nearest')\n"
   ]
  },
  {
   "cell_type": "code",
   "execution_count": 23,
   "metadata": {},
   "outputs": [
    {
     "name": "stdout",
     "output_type": "stream",
     "text": [
      "(14434, 784)\n",
      "(14434, 2)\n"
     ]
    }
   ],
   "source": [
    "from sklearn.decomposition import PCA\n",
    "\n",
    "acp = PCA(2)  # project from 64 to 2 dimensions\n",
    "Xacp = acp.fit_transform(X)\n",
    "print(X.shape)\n",
    "print(Xacp.shape)\n"
   ]
  },
  {
   "cell_type": "code",
   "execution_count": 24,
   "metadata": {},
   "outputs": [
    {
     "ename": "NameError",
     "evalue": "name 'ybis' is not defined",
     "output_type": "error",
     "traceback": [
      "\u001b[1;31m---------------------------------------------------------------------------\u001b[0m",
      "\u001b[1;31mNameError\u001b[0m                                 Traceback (most recent call last)",
      "\u001b[1;32m<ipython-input-24-0801b09f7871>\u001b[0m in \u001b[0;36m<module>\u001b[1;34m\u001b[0m\n\u001b[0;32m      1\u001b[0m \u001b[1;33m\u001b[0m\u001b[0m\n\u001b[1;32m----> 2\u001b[1;33m plt.scatter(Xacp[ybis==7, 0], Xacp[ybis==7, 1],\n\u001b[0m\u001b[0;32m      3\u001b[0m             color='red',lw=2,label='chiffre 7')\n\u001b[0;32m      4\u001b[0m plt.scatter(Xacp[ybis==3, 0], Xacp[ybis==3, 1],\n\u001b[0;32m      5\u001b[0m             lw=2,label='chiffre 3')\n",
      "\u001b[1;31mNameError\u001b[0m: name 'ybis' is not defined"
     ]
    }
   ],
   "source": [
    "\n",
    "plt.scatter(Xacp[ybis==7, 0], Xacp[ybis==7, 1],\n",
    "            color='red',lw=2,label='chiffre 7')\n",
    "plt.scatter(Xacp[ybis==3, 0], Xacp[ybis==3, 1],\n",
    "            lw=2,label='chiffre 3')\n",
    "plt.title('ACP du jeu donnée MNIST en 2 dimension')\n",
    "plt.legend(loc='best',shadow=False,scatterpoints=1)\n",
    "plt.figure()\n"
   ]
  },
  {
   "cell_type": "markdown",
   "metadata": {},
   "source": [
    "Film  HTML décrivant le rôle du $\\alpha$."
   ]
  },
  {
   "cell_type": "code",
   "execution_count": null,
   "metadata": {},
   "outputs": [],
   "source": [
    "\n",
    "\n",
    "from matplotlib import animation\n",
    "from matplotlib import rc\n",
    "from IPython.display import HTML\n",
    "\n",
    "%matplotlib notebook\n",
    "fig = plt.figure()\n",
    "ax = plt.axes(xlim=(0,28),ylim=(28,0))\n",
    "ims = []\n",
    "\n",
    "for i in range(100):\n",
    "    im = fig_digit(i)\n",
    "    ims.append([im])\n",
    "#X[0],clf.coef_,\n",
    "#anim = animation.FuncAnimation(fig, ims,frames=200,frames=200, interval=50, blit=True)\n",
    "anim = animation.ArtistAnimation(fig, ims, interval=50, blit=True, repeat_delay=50)\n",
    "anim.save('basic_animation.mp4', fps=30, extra_args=['-vcodec', 'libx264'])\n",
    "#anim.to_html5_video()\n",
    "plt.show()"
   ]
  },
  {
   "cell_type": "markdown",
   "metadata": {},
   "source": [
    "Décrivons mathématiquement ce que paramétrise le paramètre $\\alpha$ dans l'opération : $$x_{\\bmod }=x-\\alpha \\frac{w^{\\top} x}{\\|w\\|^{2}} w \\hspace{1cm} (*).$$\n",
    "L'opération $(*)$ décrit un algorithme de descente de gradient, où le paramètre $\\alpha$ joue le rôle du pas d'apprentissage dans l'algorithme, qui permet de moduler la correction ($\\alpha$ trop faible, lenteur de convergence ; $\\alpha$ trop élevé, oscillation), il paramétrise le taux de changement de l'image, plus $\\alpha$ est grand, plus l'image sera modifiée à chaque itération de l'algorithme, chose qu'on peut percevoir dans le widget ou le film que nous avons créé dans les deux questions précédentes."
   ]
  }
 ],
 "metadata": {
  "kernelspec": {
   "display_name": "Python 3",
   "language": "python",
   "name": "python3"
  },
  "language_info": {
   "codemirror_mode": {
    "name": "ipython",
    "version": 3
   },
   "file_extension": ".py",
   "mimetype": "text/x-python",
   "name": "python",
   "nbconvert_exporter": "python",
   "pygments_lexer": "ipython3",
   "version": "3.7.3"
  }
 },
 "nbformat": 4,
 "nbformat_minor": 2
}
